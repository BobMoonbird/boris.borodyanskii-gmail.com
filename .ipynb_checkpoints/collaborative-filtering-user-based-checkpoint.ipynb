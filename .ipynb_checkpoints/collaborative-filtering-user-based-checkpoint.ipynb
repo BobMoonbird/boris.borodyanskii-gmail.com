{
 "cells": [
  {
   "cell_type": "code",
   "execution_count": 112,
   "metadata": {
    "collapsed": false
   },
   "outputs": [],
   "source": [
    "# data preparation\n",
    "\n",
    "import csv\n",
    "\n",
    "usersArrayOnline = []\n",
    "i = 0\n",
    "with open('data/courses.csv', newline='') as csvfile:\n",
    "    spamreader = csv.reader(csvfile, delimiter=',')\n",
    "    for row in spamreader:\n",
    "        i += 1\n",
    "#        if i > 100:\n",
    "#            break\n",
    "        user = {}\n",
    "        user['userId'] = row[0]\n",
    "        user['courseId'] = row[1]\n",
    "        user['hasPassed'] = row[5]\n",
    "        user['selfAssigned'] = row[6]\n",
    "        user['hasPassedInTime'] = row[9]\n",
    "        selfAssigned = 0\n",
    "        if '' != row[6]:\n",
    "            selfAssigned = 10 * int(row[6])\n",
    "        hasPassed = 0\n",
    "        #if '' != row[5]:\n",
    "            #hasPassed = 10 * int(row[5])\n",
    "        hasPassedInTime = 0\n",
    "        #if '' != row[9]:\n",
    "            #hasPassedInTime = 10 * int(row[9])\n",
    "        user['rating'] = hasPassed + hasPassedInTime + selfAssigned\n",
    "        \n",
    "        ignore = False\n",
    "        for u in usersArrayOnline:\n",
    "            if u['userId'] == user['userId'] and u['courseId'] == user['courseId'] and u['rating'] >= user['rating']:\n",
    "                ignore = True\n",
    "        \n",
    "        if ignore:\n",
    "            continue\n",
    "        usersArrayOnline.append(user)\n",
    "            "
   ]
  },
  {
   "cell_type": "code",
   "execution_count": 116,
   "metadata": {
    "collapsed": true
   },
   "outputs": [],
   "source": [
    "usersArrayOffline = []\n",
    "i = 0\n",
    "with open('data/trainings.csv', newline='') as csvfile:\n",
    "    spamreader = csv.reader(csvfile, delimiter=',')\n",
    "    for row in spamreader:\n",
    "        i += 1\n",
    "        user = {}\n",
    "        user['userId'] = row[0]\n",
    "        user['courseId'] = row[1]\n",
    "        user['rating'] = 10\n",
    "        usersArrayOffline.append(user)"
   ]
  },
  {
   "cell_type": "code",
   "execution_count": 117,
   "metadata": {
    "collapsed": true
   },
   "outputs": [],
   "source": [
    "with open('data/user-course-rating.csv', \"w\", newline='') as csvfile:\n",
    "    spamreader = csv.writer(csvfile, delimiter='\\t')\n",
    "#    spamreader.writerow(['userId', 'courseId', 'rating'])\n",
    "    for user in usersArrayOnline:\n",
    "        spamreader.writerow([user['userId'], user['courseId'], float(user['rating'])])\n",
    "        \n",
    "with open('data/user-training-rating.csv', \"w\", newline='') as csvfile:\n",
    "    spamreader = csv.writer(csvfile, delimiter='\\t')\n",
    "#    spamreader.writerow(['userId', 'courseId', 'rating'])\n",
    "    for user in usersArrayOffline:\n",
    "        spamreader.writerow([user['userId'], user['courseId'], float(user['rating'])])      "
   ]
  },
  {
   "cell_type": "code",
   "execution_count": null,
   "metadata": {
    "collapsed": true
   },
   "outputs": [],
   "source": []
  },
  {
   "cell_type": "code",
   "execution_count": 124,
   "metadata": {
    "collapsed": false
   },
   "outputs": [
    {
     "name": "stdout",
     "output_type": "stream",
     "text": [
      "User-based Collaborative Filtering\n",
      "Клиентский сервис: дополнительные услуги при продаже часов\n",
      "Организационно-распорядительная система документации\n",
      "CRM - Управление взаимоотношениями с клиентами\n",
      "Возможности программы Microsoft PowerPoint\n",
      "Эффективное совещание\n",
      "Мотивация персонала\n",
      "\"Дистанционный курс: \"\"Охрана труда\"\" Блок 2\"\n",
      "WebTutor\n",
      "Основы электробезопасности\n",
      "Разговорный английский_урок 2\n",
      "Принципы эффективной презентации\n",
      "Основы управления временем\n",
      "Дистанционный курс_Охрана труда Блок 2\n",
      "Оформление услуги ТРЕЙД-ИН\n",
      "Оформление услуги Трейд-ин в программе SV (del)\n",
      "Начало работы и операция продажи товара в программе SV-кассир\n",
      "Создание красивых презентаций.\n",
      "Разговорный английский_урок 4\n",
      "Разговорный английский_урок 3\n",
      "Основы работы с Microsoft Office Outlook 2004\n",
      "О Чайникофф\n",
      "Финансы для нефинансистов\n",
      "Фильм Трейд - ИН\n",
      "\"Клиенский сервис: \"\"Увеличь свою память\"\"\"\n",
      "Охрана труда Блок 2\n",
      "Оформление покупки в кредит в программе SV-кассир\n",
      "Оформление услуги ТРЕЙД-ИН в SV\n",
      "Продукт\n",
      "Полезные возможности Microsoft Excel\n",
      "Спасибо от Сбербанка\n",
      "Спец проект\n",
      "Полезные возможности Microsoft Word\n",
      "Осенняя акция\n",
      "Курс для пользователей программным продуктом E-Staff Рекрутер\n",
      "обучение ЭДО\n",
      "Оформление услуги Трейд-ин в программе SV\n",
      "Оформление услуги Кредит в программе SV-кассир\n",
      "Ассортимент Dell\n",
      "ТРЕЙД-ИН\n",
      "Английский_ публикация урока 16.02\n",
      "Технология продаж кухонной техники\n",
      "ИЗМЕНЕНИЯ В АКЦИИ_ИЮЛЬ\n",
      "Урок 4\n",
      "Урок 3\n",
      "Урок 2\n",
      "Основы управления проектами\n",
      "Клиентские сервисы: ТРЕЙД-ИН (trash)\n",
      "Диалоги 5 и 6_webtutor\n",
      "Диалоги 1 и 2_webtutor\n",
      "Клиентский сервис: дополнительные услуги при продаже ПК\n"
     ]
    }
   ],
   "source": [
    "from recommender import tool\n",
    "data = tool.loadData(\"data/user-course-rating.csv\")\n",
    "from recommender.recommender import UserBased\n",
    "ubcf = UserBased()\n",
    "ubcf.loadData(data)\n",
    "from recommender import similarity\n",
    "simMeasure = similarity.cosine_intersection\n",
    "i = 0\n",
    "for doc in ubcf.Recommendation('u1081', simMeasure=simMeasure, nNeighbors=7):\n",
    "    i += 1\n",
    "    if i > 10:\n",
    "        break\n",
    "    print(doc)\n",
    "\n",
    "#for u in usersArray:\n",
    "#    if u[\"userId\"] == 'u1081':\n",
    "#       print(u[\"userId\"] + ',' + u[\"courseId\"] + ',' + str(u['rating']))"
   ]
  },
  {
   "cell_type": "code",
   "execution_count": null,
   "metadata": {
    "collapsed": true
   },
   "outputs": [],
   "source": []
  },
  {
   "cell_type": "code",
   "execution_count": 64,
   "metadata": {
    "collapsed": false
   },
   "outputs": [
    {
     "name": "stdout",
     "output_type": "stream",
     "text": [
      "['WebTutor', 'Разговорный английский_урок 3', 'Технология продаж кухонной техники', 'Ассортимент Dell', 'Клиентский сервис: дополнительные услуги при продаже ПК', 'ИЗМЕНЕНИЯ В АКЦИИ_ИЮЛЬ', 'О Чайникофф', 'Продукт', 'Фильм Трейд - ИН', 'обучение ЭДО']\n"
     ]
    }
   ],
   "source": []
  }
 ],
 "metadata": {
  "kernelspec": {
   "display_name": "Python 3",
   "language": "python",
   "name": "python3"
  },
  "language_info": {
   "codemirror_mode": {
    "name": "ipython",
    "version": 3
   },
   "file_extension": ".py",
   "mimetype": "text/x-python",
   "name": "python",
   "nbconvert_exporter": "python",
   "pygments_lexer": "ipython3",
   "version": "3.5.1"
  }
 },
 "nbformat": 4,
 "nbformat_minor": 0
}
