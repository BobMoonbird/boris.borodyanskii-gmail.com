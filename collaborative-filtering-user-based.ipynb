{
 "cells": [
  {
   "cell_type": "code",
   "execution_count": 42,
   "metadata": {
    "collapsed": false
   },
   "outputs": [],
   "source": [
    "# data preparation\n",
    "\n",
    "import csv\n",
    "\n",
    "usersArray = []\n",
    "i = 0\n",
    "with open('data/courses.csv', newline='') as csvfile:\n",
    "    spamreader = csv.reader(csvfile, delimiter=',')\n",
    "    for row in spamreader:\n",
    "        i += 1\n",
    "        user = {}\n",
    "        user['userId'] = row[0]\n",
    "        user['courseId'] = row[1]\n",
    "        user['hasPassed'] = row[5]\n",
    "        user['selfAssigned'] = row[6]\n",
    "        user['hasPassedInTime'] = row[9]\n",
    "        selfAssigned = 0\n",
    "        if '' not in row[6]:\n",
    "            selfAssigned = int(row[6])\n",
    "        hasPassed = 0\n",
    "        if '' not in row[5]:\n",
    "            hasPassed = int(row[5])\n",
    "        hasPassedInTime = 0\n",
    "        if '' not in row[5]:\n",
    "            hasPassedInTime = int(row[9])\n",
    "        user['rating'] = hasPassed + hasPassedInTime + selfAssigned\n",
    "        \n",
    "        usersArray.append(user)\n",
    "        \n",
    "        \n",
    "with open('data/user-course-rating.csv', \"w\", newline='') as csvfile:\n",
    "    spamreader = csv.writer(csvfile, delimiter='\\t')\n",
    "    spamreader.writerow(['userId', 'courseId', 'rating'])\n",
    "    for user in usersArray:\n",
    "        spamreader.writerow([user['userId'], user['courseId'], user['rating']])\n",
    "    "
   ]
  },
  {
   "cell_type": "code",
   "execution_count": null,
   "metadata": {
    "collapsed": true
   },
   "outputs": [],
   "source": []
  },
  {
   "cell_type": "code",
   "execution_count": 19,
   "metadata": {
    "collapsed": false
   },
   "outputs": [],
   "source": [
    "from recommender import tool\n",
    "data = tool.loadData(\"user-course-rating.csv\")\n",
    "from recommender import UserBased\n",
    "ubcf = UserBased()\n",
    "ubcf.loadData(data)\n",
    "import similarity\n",
    "simMeasure = similarity.cosine_intersection\n",
    "for user in data.keys():\n",
    "    recommendation = ubcf.Recommendation(user, simMeasure=simMeasure, nNeighbors=30)"
   ]
  }
 ],
 "metadata": {
  "kernelspec": {
   "display_name": "Python 3",
   "language": "python",
   "name": "python3"
  },
  "language_info": {
   "codemirror_mode": {
    "name": "ipython",
    "version": 3
   },
   "file_extension": ".py",
   "mimetype": "text/x-python",
   "name": "python",
   "nbconvert_exporter": "python",
   "pygments_lexer": "ipython3",
   "version": "3.5.1"
  }
 },
 "nbformat": 4,
 "nbformat_minor": 0
}
