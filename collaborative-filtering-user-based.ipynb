{
 "cells": [
  {
   "cell_type": "code",
   "execution_count": 112,
   "metadata": {
    "collapsed": false
   },
   "outputs": [],
   "source": [
    "# data preparation\n",
    "\n",
    "import csv\n",
    "\n",
    "usersArrayOnline = []\n",
    "i = 0\n",
    "with open('data/courses.csv', newline='') as csvfile:\n",
    "    spamreader = csv.reader(csvfile, delimiter=',')\n",
    "    for row in spamreader:\n",
    "        i += 1\n",
    "#        if i > 100:\n",
    "#            break\n",
    "        user = {}\n",
    "        user['userId'] = row[0]\n",
    "        user['courseId'] = row[1]\n",
    "        user['hasPassed'] = row[5]\n",
    "        user['selfAssigned'] = row[6]\n",
    "        user['hasPassedInTime'] = row[9]\n",
    "        selfAssigned = 0\n",
    "        if '' != row[6]:\n",
    "            selfAssigned = 10 * int(row[6])\n",
    "        hasPassed = 0\n",
    "        #if '' != row[5]:\n",
    "            #hasPassed = 10 * int(row[5])\n",
    "        hasPassedInTime = 0\n",
    "        #if '' != row[9]:\n",
    "            #hasPassedInTime = 10 * int(row[9])\n",
    "        user['rating'] = hasPassed + hasPassedInTime + selfAssigned\n",
    "        \n",
    "        ignore = False\n",
    "        for u in usersArrayOnline:\n",
    "            if u['userId'] == user['userId'] and u['courseId'] == user['courseId'] and u['rating'] >= user['rating']:\n",
    "                ignore = True\n",
    "        \n",
    "        if ignore:\n",
    "            continue\n",
    "        usersArrayOnline.append(user)\n",
    "            "
   ]
  },
  {
   "cell_type": "code",
   "execution_count": 116,
   "metadata": {
    "collapsed": true
   },
   "outputs": [],
   "source": [
    "usersArrayOffline = []\n",
    "i = 0\n",
    "with open('data/trainings.csv', newline='') as csvfile:\n",
    "    spamreader = csv.reader(csvfile, delimiter=',')\n",
    "    for row in spamreader:\n",
    "        i += 1\n",
    "        user = {}\n",
    "        user['userId'] = row[0]\n",
    "        user['courseId'] = row[1]\n",
    "        user['rating'] = 10\n",
    "        usersArrayOffline.append(user)"
   ]
  },
  {
   "cell_type": "code",
   "execution_count": 136,
   "metadata": {
    "collapsed": true
   },
   "outputs": [],
   "source": [
    "usersArrayLibrary = []\n",
    "i = 0\n",
    "with open('data/library.csv', newline='') as csvfile:\n",
    "    spamreader = csv.reader(csvfile, delimiter=',')\n",
    "    for row in spamreader:\n",
    "        i += 1\n",
    "        user = {}\n",
    "        user['userId'] = row[0]\n",
    "        user['courseId'] = row[1]\n",
    "        user['rating'] = 10\n",
    "        usersArrayLibrary.append(user)"
   ]
  },
  {
   "cell_type": "code",
   "execution_count": 137,
   "metadata": {
    "collapsed": true
   },
   "outputs": [],
   "source": [
    "with open('data/user-course-rating.csv', \"w\", newline='') as csvfile:\n",
    "    spamreader = csv.writer(csvfile, delimiter='\\t')\n",
    "#    spamreader.writerow(['userId', 'courseId', 'rating'])\n",
    "    for user in usersArrayOnline:\n",
    "        spamreader.writerow([user['userId'], user['courseId'], float(user['rating'])])\n",
    "        \n",
    "with open('data/user-training-rating.csv', \"w\", newline='') as csvfile:\n",
    "    spamreader = csv.writer(csvfile, delimiter='\\t')\n",
    "#    spamreader.writerow(['userId', 'courseId', 'rating'])\n",
    "    for user in usersArrayOffline:\n",
    "        spamreader.writerow([user['userId'], user['courseId'], float(user['rating'])])  \n",
    "        \n",
    "with open('data/user-library-rating.csv', \"w\", newline='') as csvfile:\n",
    "    spamreader = csv.writer(csvfile, delimiter='\\t')\n",
    "#    spamreader.writerow(['userId', 'courseId', 'rating'])\n",
    "    for user in usersArrayLibrary:\n",
    "        spamreader.writerow([user['userId'], user['courseId'], float(user['rating'])])  "
   ]
  },
  {
   "cell_type": "code",
   "execution_count": null,
   "metadata": {
    "collapsed": true
   },
   "outputs": [],
   "source": []
  },
  {
   "cell_type": "code",
   "execution_count": 125,
   "metadata": {
    "collapsed": false
   },
   "outputs": [
    {
     "name": "stdout",
     "output_type": "stream",
     "text": [
      "User-based Collaborative Filtering\n",
      "Клиентский сервис: дополнительные услуги при продаже часов\n",
      "Организационно-распорядительная система документации\n",
      "CRM - Управление взаимоотношениями с клиентами\n",
      "Возможности программы Microsoft PowerPoint\n",
      "Эффективное совещание\n",
      "Мотивация персонала\n",
      "\"Дистанционный курс: \"\"Охрана труда\"\" Блок 2\"\n",
      "WebTutor\n",
      "Основы электробезопасности\n",
      "Разговорный английский_урок 2\n"
     ]
    }
   ],
   "source": [
    "from recommender import tool\n",
    "data = tool.loadData(\"data/user-course-rating.csv\")\n",
    "from recommender.recommender import UserBased\n",
    "ubcf = UserBased()\n",
    "ubcf.loadData(data)\n",
    "from recommender import similarity\n",
    "simMeasure = similarity.cosine_intersection\n",
    "i = 0\n",
    "for doc in ubcf.Recommendation('u1081', simMeasure=simMeasure, nNeighbors=7):\n",
    "    i += 1\n",
    "    if i > 10:\n",
    "        break\n",
    "    print(doc)\n",
    "\n",
    "#for u in usersArray:\n",
    "#    if u[\"userId\"] == 'u1081':\n",
    "#       print(u[\"userId\"] + ',' + u[\"courseId\"] + ',' + str(u['rating']))"
   ]
  },
  {
   "cell_type": "code",
   "execution_count": 138,
   "metadata": {
    "collapsed": false
   },
   "outputs": [
    {
     "name": "stdout",
     "output_type": "stream",
     "text": [
      "User-based Collaborative Filtering\n",
      "Эффективная коммуникации\n",
      "Электробезопасность\n",
      "Экскурсия на завод бытовой техники\n",
      "Экскурсия на выставку электроники\n",
      "Экскурсия\n",
      "Установочный Тренинг (обкатка)\n",
      "Управленческие навыки\n",
      "УПРАВЛЕНЧЕСКИЙ КУРС: Управленческие коммуникации\n",
      "УПРАВЛЕНЧЕСКИЙ КУРС: Управление конфликтами и профилактика стресса. день 1\n",
      "УПРАВЛЕНЧЕСКИЙ КУРС: Основной управленческий цикл. день 2\n",
      "\n",
      "\n",
      "u1002,Аттестация (Тест 1 кейс),10\n",
      "u1002,Аттестация (Тест 1 кейс),10\n",
      "u1002,Аттестация (Тест 1 кейс),10\n",
      "u1002,Обучение 1С. Кассир,10\n",
      "u1002,Тренинг \"Технология продаж. Уровень 1\" День 1,10\n",
      "u1002,Тренинг \"Технология продаж. Уровень 1\" День 2,10\n",
      "u1002,Тренинг Продукт День 1,10\n",
      "u1002,Тренинг Продукт День 2,10\n",
      "u1002,Тренинг\"Технология продаж. Уровень 1\" День 2,10\n",
      "u1002,Тренинг Продукт День 2,10\n",
      "u1002,Тренинг Продукт День 1,10\n",
      "u1002,Тренинг \"Технология продаж. Уровень 1\" День 1,10\n",
      "u1002,Аттестация (Тест + кейс),10\n"
     ]
    }
   ],
   "source": [
    "from recommender import tool\n",
    "data = tool.loadData(\"data/user-training-rating.csv\")\n",
    "from recommender.recommender import UserBased\n",
    "ubcf = UserBased()\n",
    "ubcf.loadData(data)\n",
    "from recommender import similarity\n",
    "simMeasure = similarity.cosine_intersection\n",
    "i = 0\n",
    "for doc in ubcf.Recommendation('u1002', simMeasure=simMeasure, nNeighbors=7):\n",
    "    i += 1\n",
    "    if i > 10:\n",
    "        break\n",
    "    print(doc)\n",
    "    \n",
    "print(\"\\n\")\n",
    "for u in usersArrayOffline:\n",
    "    if u[\"userId\"] == 'u1002':\n",
    "        print(u[\"userId\"] + ',' + u[\"courseId\"] + ',' + str(u['rating']))"
   ]
  },
  {
   "cell_type": "code",
   "execution_count": 142,
   "metadata": {
    "collapsed": false
   },
   "outputs": [
    {
     "name": "stdout",
     "output_type": "stream",
     "text": [
      "User-based Collaborative Filtering\n",
      "скрипты Tefal\n",
      "летняя акция\n",
      "Юридический отдел\n",
      "Часы в ассортименте магазина Чайникофф\n",
      "Часы АТЛАНТИК\n",
      "Фены\n",
      "ФОРУМ_КАК ПОЛЬЗОВАТЬСЯ\n",
      "Ученый курс для Управляющих «Сопровождение проверок»\n",
      "Учебное пособие программы лояльности\n",
      "Учебное пособие для Управляющих: «Обеспечение и контроль деятельности магазина»\n",
      "\n",
      "\n"
     ]
    }
   ],
   "source": [
    "from recommender import tool\n",
    "data = tool.loadData(\"data/user-library-rating.csv\")\n",
    "from recommender.recommender import UserBased\n",
    "ubcf = UserBased()\n",
    "ubcf.loadData(data)\n",
    "from recommender import similarity\n",
    "simMeasure = similarity.cosine_intersection\n",
    "i = 0\n",
    "for doc in ubcf.Recommendation('u1002', simMeasure=simMeasure, nNeighbors=7):\n",
    "    i += 1\n",
    "    if i > 10:\n",
    "        break\n",
    "    print(doc)\n",
    "    \n",
    "print(\"\\n\")\n",
    "for u in usersArrayLibrary:\n",
    "    if u[\"userId\"] == 'u100':\n",
    "        print(u[\"userId\"] + ',' + u[\"courseId\"] + ',' + str(u['rating']))"
   ]
  }
 ],
 "metadata": {
  "kernelspec": {
   "display_name": "Python 3",
   "language": "python",
   "name": "python3"
  },
  "language_info": {
   "codemirror_mode": {
    "name": "ipython",
    "version": 3
   },
   "file_extension": ".py",
   "mimetype": "text/x-python",
   "name": "python",
   "nbconvert_exporter": "python",
   "pygments_lexer": "ipython3",
   "version": "3.5.1"
  }
 },
 "nbformat": 4,
 "nbformat_minor": 0
}
